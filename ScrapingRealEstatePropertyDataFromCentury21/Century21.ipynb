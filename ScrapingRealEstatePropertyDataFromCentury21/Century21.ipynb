{
 "cells": [
  {
   "cell_type": "markdown",
   "metadata": {},
   "source": [
    "# Practice"
   ]
  },
  {
   "cell_type": "code",
   "execution_count": 1,
   "metadata": {
    "collapsed": true
   },
   "outputs": [],
   "source": [
    "import requests\n",
    "from bs4 import BeautifulSoup"
   ]
  },
  {
   "cell_type": "code",
   "execution_count": 3,
   "metadata": {},
   "outputs": [],
   "source": [
    "r = requests.get(\"https://pythonhow.com/real-estate/rock-springs-wy/LCWYROCKSPRINGS/\")\n",
    "c = r.content"
   ]
  },
  {
   "cell_type": "code",
   "execution_count": 5,
   "metadata": {},
   "outputs": [],
   "source": [
    "soup=BeautifulSoup(c, \"html.parser\")"
   ]
  },
  {
   "cell_type": "code",
   "execution_count": 7,
   "metadata": {},
   "outputs": [
    {
     "data": {
      "text/plain": [
       "10"
      ]
     },
     "execution_count": 7,
     "metadata": {},
     "output_type": "execute_result"
    }
   ],
   "source": [
    "all = soup.find_all(\"div\",{\"class\":\"propertyRow\"})\n",
    "len(all)"
   ]
  },
  {
   "cell_type": "code",
   "execution_count": 8,
   "metadata": {},
   "outputs": [
    {
     "data": {
      "text/plain": [
       "[<h4 class=\"propPrice\">\n",
       " $725,000\n",
       " <span class=\"IconPropertyFavorite16\"></span>\n",
       " </h4>]"
      ]
     },
     "execution_count": 8,
     "metadata": {},
     "output_type": "execute_result"
    }
   ],
   "source": [
    "all[0].find_all(\"h4\", {\"class\":\"propPrice\"})"
   ]
  },
  {
   "cell_type": "code",
   "execution_count": 14,
   "metadata": {},
   "outputs": [
    {
     "data": {
      "text/plain": [
       "bs4.element.Tag"
      ]
     },
     "execution_count": 14,
     "metadata": {},
     "output_type": "execute_result"
    }
   ],
   "source": [
    "type(all[0].find(\"h4\", {\"class\":\"propPrice\"}))"
   ]
  },
  {
   "cell_type": "code",
   "execution_count": 13,
   "metadata": {},
   "outputs": [
    {
     "data": {
      "text/plain": [
       "<h4 class=\"propPrice\">\n",
       "$725,000\n",
       "<span class=\"IconPropertyFavorite16\"></span>\n",
       "</h4>"
      ]
     },
     "execution_count": 13,
     "metadata": {},
     "output_type": "execute_result"
    }
   ],
   "source": [
    "all[0].find(\"h4\", {\"class\":\"propPrice\"})"
   ]
  },
  {
   "cell_type": "code",
   "execution_count": 10,
   "metadata": {},
   "outputs": [
    {
     "data": {
      "text/plain": [
       "'\\n$725,000\\n\\n'"
      ]
     },
     "execution_count": 10,
     "metadata": {},
     "output_type": "execute_result"
    }
   ],
   "source": [
    "all[0].find(\"h4\", {\"class\":\"propPrice\"}).text"
   ]
  },
  {
   "cell_type": "code",
   "execution_count": 11,
   "metadata": {},
   "outputs": [
    {
     "data": {
      "text/plain": [
       "str"
      ]
     },
     "execution_count": 11,
     "metadata": {},
     "output_type": "execute_result"
    }
   ],
   "source": [
    "type(all[0].find(\"h4\", {\"class\":\"propPrice\"}).text)"
   ]
  },
  {
   "cell_type": "code",
   "execution_count": 12,
   "metadata": {},
   "outputs": [
    {
     "data": {
      "text/plain": [
       "'$725,000'"
      ]
     },
     "execution_count": 12,
     "metadata": {},
     "output_type": "execute_result"
    }
   ],
   "source": [
    "all[0].find(\"h4\", {\"class\":\"propPrice\"}).text.replace(\"\\n\",\"\")"
   ]
  },
  {
   "cell_type": "markdown",
   "metadata": {},
   "source": [
    "# Scraping Code"
   ]
  },
  {
   "cell_type": "code",
   "execution_count": 15,
   "metadata": {
    "collapsed": true
   },
   "outputs": [],
   "source": [
    "import requests\n",
    "from bs4 import BeautifulSoup\n",
    "\n",
    "r = requests.get(\"https://pythonhow.com/real-estate/rock-springs-wy/LCWYROCKSPRINGS/\")\n",
    "c = r.content\n",
    "\n",
    "soup=BeautifulSoup(c, \"html.parser\")\n",
    "all = soup.find_all(\"div\",{\"class\":\"propertyRow\"})"
   ]
  },
  {
   "cell_type": "code",
   "execution_count": 35,
   "metadata": {},
   "outputs": [],
   "source": [
    "l = []\n",
    "\n",
    "for item in all:\n",
    "    d = {}\n",
    "    \n",
    "    d[\"Address\"] = item.find_all(\"span\", {\"class\",\"propAddressCollapse\"})[0].text\n",
    "    d[\"Locality\"]=item.find_all(\"span\", {\"class\",\"propAddressCollapse\"})[1].text\n",
    "    d[\"Price\"] = item.find(\"h4\", {\"class\":\"propPrice\"}).text.replace(\"\\n\",\"\")\n",
    "    try:\n",
    "        d[\"Beds\"]=item.find(\"span\", {\"class\", \"infoBed\"}).find(\"b\").text # used try except because for first item in the loop\n",
    "                                            # there there is no span element and hence output is \"none\" which does\n",
    "                                        # not support .text method\n",
    "    except:\n",
    "        d[\"Beds\"]=None\n",
    "    \n",
    "    try:\n",
    "        d[\"Area\"]=item.find(\"span\", {\"class\", \"infoSqFt\"}).find(\"b\").text\n",
    "    except:\n",
    "        d[\"Area\"] = None\n",
    "    \n",
    "    try:\n",
    "        d[\"Full Baths\"]=item.find(\"span\", {\"class\", \"infoValueFullBath\"}).find(\"b\").text\n",
    "    except:\n",
    "        d[\"Full Baths\"] = None\n",
    "    \n",
    "    \n",
    "    try:\n",
    "        d[\"Half Baths\"]=item.find(\"span\", {\"class\", \"infoValueHalfBath\"}).find(\"b\").text\n",
    "    except:\n",
    "        d[\"Half Baths\"]= None\n",
    "        \n",
    "    for column_group in item.find_all(\"div\", {\"class\":\"columnGroup\"}):\n",
    "#         print(column_group)\n",
    "        for feature_group, feature_name in zip(column_group.find_all(\"span\",{\"class\",\"featureGroup\"}),column_group.find_all(\"span\",{\"class\":\"featureName\"})):\n",
    "#             print(feature_group.text, feature_name.text)\n",
    "            if \"Lot Size\" in feature_group.text:\n",
    "                d[\"Lot Size\"]=feature_name.text\n",
    "            \n",
    "    l.append(d)"
   ]
  },
  {
   "cell_type": "code",
   "execution_count": 36,
   "metadata": {},
   "outputs": [
    {
     "data": {
      "text/plain": [
       "[{'Address': '0 Gateway',\n",
       "  'Area': None,\n",
       "  'Beds': None,\n",
       "  'Full Baths': None,\n",
       "  'Half Baths': None,\n",
       "  'Locality': 'Rock Springs, WY 82901',\n",
       "  'Price': '$725,000'},\n",
       " {'Address': '1003 Winchester Blvd.',\n",
       "  'Area': None,\n",
       "  'Beds': '4',\n",
       "  'Full Baths': '4',\n",
       "  'Half Baths': None,\n",
       "  'Locality': 'Rock Springs, WY 82901',\n",
       "  'Lot Size': '0.21 Acres',\n",
       "  'Price': '$452,900'},\n",
       " {'Address': '600 Talladega',\n",
       "  'Area': '3,154',\n",
       "  'Beds': '5',\n",
       "  'Full Baths': '3',\n",
       "  'Half Baths': None,\n",
       "  'Locality': 'Rock Springs, WY 82901',\n",
       "  'Price': '$396,900'},\n",
       " {'Address': '3239 Spearhead Way',\n",
       "  'Area': '3,076',\n",
       "  'Beds': '4',\n",
       "  'Full Baths': '3',\n",
       "  'Half Baths': '1',\n",
       "  'Locality': 'Rock Springs, WY 82901',\n",
       "  'Lot Size': 'Under 1/2 Acre, ',\n",
       "  'Price': '$389,900'},\n",
       " {'Address': '522 Emerald Street',\n",
       "  'Area': '1,172',\n",
       "  'Beds': '3',\n",
       "  'Full Baths': '3',\n",
       "  'Half Baths': None,\n",
       "  'Locality': 'Rock Springs, WY 82901',\n",
       "  'Lot Size': 'Under 1/2 Acre, ',\n",
       "  'Price': '$254,000'},\n",
       " {'Address': \"1302 Veteran's Drive\",\n",
       "  'Area': '1,932',\n",
       "  'Beds': '4',\n",
       "  'Full Baths': '2',\n",
       "  'Half Baths': None,\n",
       "  'Locality': 'Rock Springs, WY 82901',\n",
       "  'Lot Size': '0.27 Acres',\n",
       "  'Price': '$252,900'},\n",
       " {'Address': '1021 Cypress Cir',\n",
       "  'Area': '1,676',\n",
       "  'Beds': '4',\n",
       "  'Full Baths': '3',\n",
       "  'Half Baths': None,\n",
       "  'Locality': 'Rock Springs, WY 82901',\n",
       "  'Lot Size': 'Under 1/2 Acre, ',\n",
       "  'Price': '$210,000'},\n",
       " {'Address': '913 Madison Dr',\n",
       "  'Area': '1,344',\n",
       "  'Beds': '3',\n",
       "  'Full Baths': '2',\n",
       "  'Half Baths': None,\n",
       "  'Locality': 'Rock Springs, WY 82901',\n",
       "  'Lot Size': 'Under 1/2 Acre, ',\n",
       "  'Price': '$209,000'},\n",
       " {'Address': '1344 Teton Street',\n",
       "  'Area': '1,920',\n",
       "  'Beds': '3',\n",
       "  'Full Baths': '2',\n",
       "  'Half Baths': None,\n",
       "  'Locality': 'Rock Springs, WY 82901',\n",
       "  'Lot Size': 'Under 1/2 Acre, ',\n",
       "  'Price': '$199,900'},\n",
       " {'Address': '4 Minnies Lane',\n",
       "  'Area': '1,664',\n",
       "  'Beds': '3',\n",
       "  'Full Baths': '2',\n",
       "  'Half Baths': None,\n",
       "  'Locality': 'Rock Springs, WY 82901',\n",
       "  'Lot Size': '2.02 Acres',\n",
       "  'Price': '$196,900'}]"
      ]
     },
     "execution_count": 36,
     "metadata": {},
     "output_type": "execute_result"
    }
   ],
   "source": [
    "l"
   ]
  },
  {
   "cell_type": "code",
   "execution_count": 37,
   "metadata": {
    "collapsed": true
   },
   "outputs": [],
   "source": [
    "import pandas\n",
    "df = pandas.DataFrame(l)"
   ]
  },
  {
   "cell_type": "code",
   "execution_count": 38,
   "metadata": {},
   "outputs": [
    {
     "data": {
      "text/html": [
       "<div>\n",
       "<style>\n",
       "    .dataframe thead tr:only-child th {\n",
       "        text-align: right;\n",
       "    }\n",
       "\n",
       "    .dataframe thead th {\n",
       "        text-align: left;\n",
       "    }\n",
       "\n",
       "    .dataframe tbody tr th {\n",
       "        vertical-align: top;\n",
       "    }\n",
       "</style>\n",
       "<table border=\"1\" class=\"dataframe\">\n",
       "  <thead>\n",
       "    <tr style=\"text-align: right;\">\n",
       "      <th></th>\n",
       "      <th>Address</th>\n",
       "      <th>Area</th>\n",
       "      <th>Beds</th>\n",
       "      <th>Full Baths</th>\n",
       "      <th>Half Baths</th>\n",
       "      <th>Locality</th>\n",
       "      <th>Lot Size</th>\n",
       "      <th>Price</th>\n",
       "    </tr>\n",
       "  </thead>\n",
       "  <tbody>\n",
       "    <tr>\n",
       "      <th>0</th>\n",
       "      <td>0 Gateway</td>\n",
       "      <td>None</td>\n",
       "      <td>None</td>\n",
       "      <td>None</td>\n",
       "      <td>None</td>\n",
       "      <td>Rock Springs, WY 82901</td>\n",
       "      <td>NaN</td>\n",
       "      <td>$725,000</td>\n",
       "    </tr>\n",
       "    <tr>\n",
       "      <th>1</th>\n",
       "      <td>1003 Winchester Blvd.</td>\n",
       "      <td>None</td>\n",
       "      <td>4</td>\n",
       "      <td>4</td>\n",
       "      <td>None</td>\n",
       "      <td>Rock Springs, WY 82901</td>\n",
       "      <td>0.21 Acres</td>\n",
       "      <td>$452,900</td>\n",
       "    </tr>\n",
       "    <tr>\n",
       "      <th>2</th>\n",
       "      <td>600 Talladega</td>\n",
       "      <td>3,154</td>\n",
       "      <td>5</td>\n",
       "      <td>3</td>\n",
       "      <td>None</td>\n",
       "      <td>Rock Springs, WY 82901</td>\n",
       "      <td>NaN</td>\n",
       "      <td>$396,900</td>\n",
       "    </tr>\n",
       "    <tr>\n",
       "      <th>3</th>\n",
       "      <td>3239 Spearhead Way</td>\n",
       "      <td>3,076</td>\n",
       "      <td>4</td>\n",
       "      <td>3</td>\n",
       "      <td>1</td>\n",
       "      <td>Rock Springs, WY 82901</td>\n",
       "      <td>Under 1/2 Acre,</td>\n",
       "      <td>$389,900</td>\n",
       "    </tr>\n",
       "    <tr>\n",
       "      <th>4</th>\n",
       "      <td>522 Emerald Street</td>\n",
       "      <td>1,172</td>\n",
       "      <td>3</td>\n",
       "      <td>3</td>\n",
       "      <td>None</td>\n",
       "      <td>Rock Springs, WY 82901</td>\n",
       "      <td>Under 1/2 Acre,</td>\n",
       "      <td>$254,000</td>\n",
       "    </tr>\n",
       "    <tr>\n",
       "      <th>5</th>\n",
       "      <td>1302 Veteran's Drive</td>\n",
       "      <td>1,932</td>\n",
       "      <td>4</td>\n",
       "      <td>2</td>\n",
       "      <td>None</td>\n",
       "      <td>Rock Springs, WY 82901</td>\n",
       "      <td>0.27 Acres</td>\n",
       "      <td>$252,900</td>\n",
       "    </tr>\n",
       "    <tr>\n",
       "      <th>6</th>\n",
       "      <td>1021 Cypress Cir</td>\n",
       "      <td>1,676</td>\n",
       "      <td>4</td>\n",
       "      <td>3</td>\n",
       "      <td>None</td>\n",
       "      <td>Rock Springs, WY 82901</td>\n",
       "      <td>Under 1/2 Acre,</td>\n",
       "      <td>$210,000</td>\n",
       "    </tr>\n",
       "    <tr>\n",
       "      <th>7</th>\n",
       "      <td>913 Madison Dr</td>\n",
       "      <td>1,344</td>\n",
       "      <td>3</td>\n",
       "      <td>2</td>\n",
       "      <td>None</td>\n",
       "      <td>Rock Springs, WY 82901</td>\n",
       "      <td>Under 1/2 Acre,</td>\n",
       "      <td>$209,000</td>\n",
       "    </tr>\n",
       "    <tr>\n",
       "      <th>8</th>\n",
       "      <td>1344 Teton Street</td>\n",
       "      <td>1,920</td>\n",
       "      <td>3</td>\n",
       "      <td>2</td>\n",
       "      <td>None</td>\n",
       "      <td>Rock Springs, WY 82901</td>\n",
       "      <td>Under 1/2 Acre,</td>\n",
       "      <td>$199,900</td>\n",
       "    </tr>\n",
       "    <tr>\n",
       "      <th>9</th>\n",
       "      <td>4 Minnies Lane</td>\n",
       "      <td>1,664</td>\n",
       "      <td>3</td>\n",
       "      <td>2</td>\n",
       "      <td>None</td>\n",
       "      <td>Rock Springs, WY 82901</td>\n",
       "      <td>2.02 Acres</td>\n",
       "      <td>$196,900</td>\n",
       "    </tr>\n",
       "  </tbody>\n",
       "</table>\n",
       "</div>"
      ],
      "text/plain": [
       "                 Address   Area  Beds Full Baths Half Baths  \\\n",
       "0              0 Gateway   None  None       None       None   \n",
       "1  1003 Winchester Blvd.   None     4          4       None   \n",
       "2          600 Talladega  3,154     5          3       None   \n",
       "3     3239 Spearhead Way  3,076     4          3          1   \n",
       "4     522 Emerald Street  1,172     3          3       None   \n",
       "5   1302 Veteran's Drive  1,932     4          2       None   \n",
       "6       1021 Cypress Cir  1,676     4          3       None   \n",
       "7         913 Madison Dr  1,344     3          2       None   \n",
       "8      1344 Teton Street  1,920     3          2       None   \n",
       "9         4 Minnies Lane  1,664     3          2       None   \n",
       "\n",
       "                 Locality          Lot Size     Price  \n",
       "0  Rock Springs, WY 82901               NaN  $725,000  \n",
       "1  Rock Springs, WY 82901        0.21 Acres  $452,900  \n",
       "2  Rock Springs, WY 82901               NaN  $396,900  \n",
       "3  Rock Springs, WY 82901  Under 1/2 Acre,   $389,900  \n",
       "4  Rock Springs, WY 82901  Under 1/2 Acre,   $254,000  \n",
       "5  Rock Springs, WY 82901        0.27 Acres  $252,900  \n",
       "6  Rock Springs, WY 82901  Under 1/2 Acre,   $210,000  \n",
       "7  Rock Springs, WY 82901  Under 1/2 Acre,   $209,000  \n",
       "8  Rock Springs, WY 82901  Under 1/2 Acre,   $199,900  \n",
       "9  Rock Springs, WY 82901        2.02 Acres  $196,900  "
      ]
     },
     "execution_count": 38,
     "metadata": {},
     "output_type": "execute_result"
    }
   ],
   "source": [
    "df"
   ]
  },
  {
   "cell_type": "code",
   "execution_count": 39,
   "metadata": {
    "collapsed": true
   },
   "outputs": [],
   "source": [
    "df.to_csv(\"Output.csv\")"
   ]
  },
  {
   "cell_type": "code",
   "execution_count": null,
   "metadata": {
    "collapsed": true
   },
   "outputs": [],
   "source": []
  }
 ],
 "metadata": {
  "kernelspec": {
   "display_name": "Python 3",
   "language": "python",
   "name": "python3"
  },
  "language_info": {
   "codemirror_mode": {
    "name": "ipython",
    "version": 3
   },
   "file_extension": ".py",
   "mimetype": "text/x-python",
   "name": "python",
   "nbconvert_exporter": "python",
   "pygments_lexer": "ipython3",
   "version": "3.6.3"
  }
 },
 "nbformat": 4,
 "nbformat_minor": 2
}
